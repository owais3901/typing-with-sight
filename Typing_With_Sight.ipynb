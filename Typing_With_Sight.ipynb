{
  "cells": [
    {
      "cell_type": "markdown",
      "metadata": {
        "id": "view-in-github",
        "colab_type": "text"
      },
      "source": [
        "<a href=\"https://colab.research.google.com/github/owais3901/typing-with-sight/blob/main/Typing_With_Sight.ipynb\" target=\"_parent\"><img src=\"https://colab.research.google.com/assets/colab-badge.svg\" alt=\"Open In Colab\"/></a>"
      ]
    },
    {
      "cell_type": "code",
      "execution_count": null,
      "metadata": {
        "colab": {
          "base_uri": "https://localhost:8080/"
        },
        "id": "P1IgXXPanKBd",
        "outputId": "bec7fac6-3fd9-449a-872e-9817b351b8d3"
      },
      "outputs": [
        {
          "output_type": "stream",
          "name": "stdout",
          "text": [
            "Collecting mediapipe\n",
            "  Downloading mediapipe-0.8.9.1-cp37-cp37m-manylinux_2_17_x86_64.manylinux2014_x86_64.whl (32.7 MB)\n",
            "\u001b[K     |████████████████████████████████| 32.7 MB 162 kB/s \n",
            "\u001b[?25hRequirement already satisfied: attrs>=19.1.0 in /usr/local/lib/python3.7/dist-packages (from mediapipe) (21.4.0)\n",
            "Requirement already satisfied: protobuf>=3.11.4 in /usr/local/lib/python3.7/dist-packages (from mediapipe) (3.17.3)\n",
            "Requirement already satisfied: absl-py in /usr/local/lib/python3.7/dist-packages (from mediapipe) (1.0.0)\n",
            "Requirement already satisfied: numpy in /usr/local/lib/python3.7/dist-packages (from mediapipe) (1.21.6)\n",
            "Requirement already satisfied: matplotlib in /usr/local/lib/python3.7/dist-packages (from mediapipe) (3.2.2)\n",
            "Requirement already satisfied: opencv-contrib-python in /usr/local/lib/python3.7/dist-packages (from mediapipe) (4.1.2.30)\n",
            "Requirement already satisfied: six>=1.9 in /usr/local/lib/python3.7/dist-packages (from protobuf>=3.11.4->mediapipe) (1.15.0)\n",
            "Requirement already satisfied: kiwisolver>=1.0.1 in /usr/local/lib/python3.7/dist-packages (from matplotlib->mediapipe) (1.4.2)\n",
            "Requirement already satisfied: pyparsing!=2.0.4,!=2.1.2,!=2.1.6,>=2.0.1 in /usr/local/lib/python3.7/dist-packages (from matplotlib->mediapipe) (3.0.8)\n",
            "Requirement already satisfied: python-dateutil>=2.1 in /usr/local/lib/python3.7/dist-packages (from matplotlib->mediapipe) (2.8.2)\n",
            "Requirement already satisfied: cycler>=0.10 in /usr/local/lib/python3.7/dist-packages (from matplotlib->mediapipe) (0.11.0)\n",
            "Requirement already satisfied: typing-extensions in /usr/local/lib/python3.7/dist-packages (from kiwisolver>=1.0.1->matplotlib->mediapipe) (4.2.0)\n",
            "Installing collected packages: mediapipe\n",
            "Successfully installed mediapipe-0.8.9.1\n"
          ]
        }
      ],
      "source": [
        "\n",
        "!pip3 install mediapipe"
      ]
    },
    {
      "cell_type": "code",
      "execution_count": null,
      "metadata": {
        "colab": {
          "base_uri": "https://localhost:8080/"
        },
        "id": "s6vRLMfPn-NM",
        "outputId": "d8c7d81b-45e7-4381-8ded-0f7e0f99a571"
      },
      "outputs": [
        {
          "name": "stdout",
          "output_type": "stream",
          "text": [
            "Collecting cvzone\n",
            "  Downloading cvzone-1.5.6.tar.gz (12 kB)\n",
            "Requirement already satisfied: opencv-python in /usr/local/lib/python3.7/dist-packages (from cvzone) (4.1.2.30)\n",
            "Requirement already satisfied: numpy in /usr/local/lib/python3.7/dist-packages (from cvzone) (1.21.5)\n",
            "Building wheels for collected packages: cvzone\n",
            "  Building wheel for cvzone (setup.py) ... \u001b[?25l\u001b[?25hdone\n",
            "  Created wheel for cvzone: filename=cvzone-1.5.6-py3-none-any.whl size=18768 sha256=0667fec5fd645aabbbc3d66a66f7c8615ab80fbb68416eec57ab0164deca2749\n",
            "  Stored in directory: /root/.cache/pip/wheels/c1/e8/e9/80f482161ba9f5dcf4832b76ac70540edd11a3136a58445c52\n",
            "Successfully built cvzone\n",
            "Installing collected packages: cvzone\n",
            "Successfully installed cvzone-1.5.6\n"
          ]
        }
      ],
      "source": [
        "!pip install cvzone"
      ]
    },
    {
      "cell_type": "code",
      "execution_count": 1,
      "metadata": {
        "colab": {
          "base_uri": "https://localhost:8080/"
        },
        "id": "jjQG6t-FB4Ar",
        "outputId": "7a7df73b-d948-42f1-a07b-1a876ace6851"
      },
      "outputs": [
        {
          "output_type": "stream",
          "name": "stdout",
          "text": [
            "Collecting mouse\n",
            "  Downloading mouse-0.7.1-py2.py3-none-any.whl (16 kB)\n",
            "Installing collected packages: mouse\n",
            "Successfully installed mouse-0.7.1\n",
            "Collecting autopy\n",
            "  Downloading autopy-4.0.0-cp37-cp37m-manylinux2010_x86_64.whl (8.3 MB)\n",
            "\u001b[K     |████████████████████████████████| 8.3 MB 4.6 MB/s \n",
            "\u001b[?25hInstalling collected packages: autopy\n",
            "Successfully installed autopy-4.0.0\n"
          ]
        }
      ],
      "source": [
        "!pip install mouse\n",
        "!pip install autopy"
      ]
    },
    {
      "cell_type": "code",
      "execution_count": null,
      "metadata": {
        "colab": {
          "base_uri": "https://localhost:8080/"
        },
        "id": "ml0-uSvLp7EI",
        "outputId": "bd48147e-46ea-4387-fd7b-e124c115f0ec"
      },
      "outputs": [
        {
          "output_type": "stream",
          "name": "stdout",
          "text": [
            "Cloning into 'samplevideos'...\n",
            "remote: Enumerating objects: 9, done.\u001b[K\n",
            "remote: Counting objects: 100% (9/9), done.\u001b[K\n",
            "remote: Compressing objects: 100% (8/8), done.\u001b[K\n",
            "remote: Total 9 (delta 1), reused 0 (delta 0), pack-reused 0\u001b[K\n",
            "Unpacking objects: 100% (9/9), done.\n"
          ]
        }
      ],
      "source": [
        "!git clone https://github.com/owais3901/samplevideos.git"
      ]
    },
    {
      "cell_type": "code",
      "execution_count": null,
      "metadata": {
        "id": "K0jE70fv9CqF"
      },
      "outputs": [],
      "source": [
        "\n"
      ]
    },
    {
      "cell_type": "code",
      "execution_count": null,
      "metadata": {
        "id": "_vR_14l9ms98",
        "colab": {
          "base_uri": "https://localhost:8080/",
          "height": 384
        },
        "outputId": "03ee9859-804b-4894-a198-39cb370fce62"
      },
      "outputs": [
        {
          "output_type": "error",
          "ename": "ModuleNotFoundError",
          "evalue": "ignored",
          "traceback": [
            "\u001b[0;31m---------------------------------------------------------------------------\u001b[0m",
            "\u001b[0;31mModuleNotFoundError\u001b[0m                       Traceback (most recent call last)",
            "\u001b[0;32m<ipython-input-12-876adc33a9bc>\u001b[0m in \u001b[0;36m<module>\u001b[0;34m()\u001b[0m\n\u001b[1;32m      1\u001b[0m \u001b[0;32mimport\u001b[0m \u001b[0mcv2\u001b[0m\u001b[0;34m\u001b[0m\u001b[0;34m\u001b[0m\u001b[0m\n\u001b[1;32m      2\u001b[0m \u001b[0;32mimport\u001b[0m \u001b[0mmediapipe\u001b[0m\u001b[0;34m\u001b[0m\u001b[0;34m\u001b[0m\u001b[0m\n\u001b[0;32m----> 3\u001b[0;31m \u001b[0;32mimport\u001b[0m \u001b[0mcvzone\u001b[0m\u001b[0;34m\u001b[0m\u001b[0;34m\u001b[0m\u001b[0m\n\u001b[0m\u001b[1;32m      4\u001b[0m \u001b[0;32mimport\u001b[0m \u001b[0mnumpy\u001b[0m \u001b[0;32mas\u001b[0m \u001b[0mnp\u001b[0m\u001b[0;34m\u001b[0m\u001b[0;34m\u001b[0m\u001b[0m\n\u001b[1;32m      5\u001b[0m \u001b[0;32mfrom\u001b[0m \u001b[0mcvzone\u001b[0m\u001b[0;34m.\u001b[0m\u001b[0mFaceMeshModule\u001b[0m \u001b[0;32mimport\u001b[0m \u001b[0mFaceMeshDetector\u001b[0m\u001b[0;34m\u001b[0m\u001b[0;34m\u001b[0m\u001b[0m\n",
            "\u001b[0;31mModuleNotFoundError\u001b[0m: No module named 'cvzone'",
            "",
            "\u001b[0;31m---------------------------------------------------------------------------\u001b[0;32m\nNOTE: If your import is failing due to a missing package, you can\nmanually install dependencies using either !pip or !apt.\n\nTo view examples of installing some common dependencies, click the\n\"Open Examples\" button below.\n\u001b[0;31m---------------------------------------------------------------------------\u001b[0m\n"
          ],
          "errorDetails": {
            "actions": [
              {
                "action": "open_url",
                "actionText": "Open Examples",
                "url": "/notebooks/snippets/importing_libraries.ipynb"
              }
            ]
          }
        }
      ],
      "source": [
        "import cv2\n",
        "import mediapipe\n",
        "import cvzone\n",
        "import numpy as np\n",
        "from cvzone.FaceMeshModule import FaceMeshDetector\n",
        "#import autopy\n",
        "cap = cv2.VideoCapture('samplevideos/Video.mp4')\n",
        "detector = FaceMeshDetector(maxFaces=1)\n",
        "idList = [155,154,153, 145, 144, 163, 7, 246, 161, 160, 159, 158, 157,133,173,33]\n",
        "ig = [474,475, 476, 477]\n",
        "idd = [151]\n",
        "#idlist=[362,382,381,380,374,373,390,249,263,466,388,387,386,385,398]\n",
        "color = (25, 250, 50)\n",
        "color1= (255,200,25)\n",
        "while cap.isOpened:\n",
        " \n",
        "    #if cap.get(cv2.CAP_PROP_POS_FRAMES) == cap.get(cv2.CAP_PROP_FRAME_COUNT):\n",
        "     #   cap.set(cv2.CAP_PROP_POS_FRAMES, 0)\n",
        " \n",
        "    success, img = cap.read()\n",
        "    img, faces = detector.findFaceMesh(img, draw=False)\n",
        "    if faces:\n",
        "      for i in idd:\n",
        "        face = faces[0]\n",
        "        cv2.circle(img, tuple(face[i]), 4,color, cv2.FILLED)\n",
        "        #autopy.mouse.move(face[i][0],face[i][1])\n",
        "    m=[]\n",
        "    for i in idList:\n",
        "        m.append(face[i])\n",
        "    print(m)\n",
        "    for i in idList:\n",
        "        face = faces[0]\n",
        "        cv2.circle(img, tuple(face[i]), 1,color1, cv2.FILLED)\n",
        "        left=face[33]\n",
        "        right=face[173]\n",
        "        up=face[159]\n",
        "        down=face[145]\n",
        "        print(left,right,up,down)\n",
        "        img1=img[up[1]+5:down[1],left[0]:right[0]]\n",
        "    img1=cv2.resize(img1,(640,480))\n",
        "    #cv2.imshow(\"Image\",img)\n",
        "    #cv2.imshow(\"Image1\",img1)\n",
        "    q=cv2.waitKey(25)\n",
        "    if q==ord('q'):\n",
        "        break\n",
        "\n",
        "\n",
        "\n",
        "\n",
        "##    mesh=np.array([faces[i][0],faces[i][1]].astype(int) for i in idList)\n",
        "##    (cx,cy),rr= cv2.minEnclosingCircle(mesh[idList])\n",
        "##    center_left = np.array([cx, cy], dtype=np.int32)\n",
        "##    cv2.circle(img, center_left, int(radius), (255,0,255), 2, cv2.LINE_AA)\n",
        "    #center_right = np.array([cx, cy], dtype=np.int32)\n",
        "##    mask = np.zeros((img.shape[0],img.shape[1]), dtype=np.uint8)\n",
        "##    cv2.circle(mask, center_left, int(radius), (255,0,255), 2, cv2.LINE_AA)\n",
        "\n",
        "\"\"\"\n",
        "    lenghtVer, _ = detector.findDistance(leftUp, leftDown)\n",
        "    lenghtHor, _ = detector.findDistance(leftLeft, leftRight)\n",
        "    ratio = int((lenghtVer / lenghtHor) * 100)\n",
        "    ratioList.append(ratio)\n",
        "    if len(ratioList) > 3:\n",
        "        ratioList.pop(0)\n",
        "    ratioAvg = sum(ratioList) / len(ratioList)\n",
        "    if ratioAvg<36:\n",
        "        autopy.mouse.click()\n",
        "\"\"\"\n"
      ]
    },
    {
      "cell_type": "code",
      "execution_count": null,
      "metadata": {
        "id": "aCp29pXc9GvX"
      },
      "outputs": [],
      "source": [
        "\n",
        "import cv2 as cv \n",
        "import numpy as np\n",
        "import mediapipe as mp \n",
        "\n",
        "mp_face_mesh = mp.solutions.face_mesh\n",
        "LEFT_EYE =[ 362, 382, 381, 380, 374, 373, 390, 249, 263, 466, 388, 387, 386, 385,384, 398 ]\n",
        "#RIGHT_EYE=[ 33, 7, 163, 144, 145, 153, 154, 155, 133, 173, 157, 158, 159, 160, 161 , 246 ] \n",
        "LEFT_IRIS = [474,475, 476, 477]\n",
        "#RIGHT_IRIS = [469, 470, 471, 472]\n",
        "res=False\n",
        "counter=0\n",
        "cap = cv.VideoCapture(\"Video.mp4\")\n",
        "\n",
        "\"\"\"\n",
        "def arrayShow (imageArray):\n",
        "    ret, png = cv.imencode('.png', imageArray)\n",
        "    encoded = base64.b64encode(png)\n",
        "    return Image(data=encoded.decode('ascii'))\n",
        "\"\"\"\n",
        "\"\"\"\n",
        "frame_width = int(cap.get(3))\n",
        "frame_height = int(cap.get(4))\n",
        "frame_size = (frame_width,frame_height)\n",
        "result = cv.VideoWriter('filename.avi',cv.VideoWriter_fourcc(*'MJPG'),10, frame_size)\n",
        "\"\"\"\n",
        "with mp_face_mesh.FaceMesh(\n",
        "    max_num_faces=1,\n",
        "    refine_landmarks=True,\n",
        "    min_detection_confidence=0.5,\n",
        "    min_tracking_confidence=0.5\n",
        ") as face_mesh:\n",
        "    while True:\n",
        "        ret, frame = cap.read()\n",
        "        if not ret:\n",
        "            break\n",
        "        rgb_frame = cv.cvtColor(frame, cv.COLOR_BGR2RGB)\n",
        "        img_h, img_w = frame.shape[:2]\n",
        "        results = face_mesh.process(rgb_frame)\n",
        "        if results.multi_face_landmarks:\n",
        "            # print(results.multi_face_landmarks[0].landmark)\n",
        "            mesh_points=np.array([np.multiply([p.x, p.y], [img_w, img_h]).astype(int) for p in results.multi_face_landmarks[0].landmark])\n",
        "            # print(mesh_points.shape)\n",
        "            (cx, cy), radius = cv.minEnclosingCircle(mesh_points[LEFT_IRIS])\n",
        "            #(r_cx, r_cy), r_radius = cv.minEnclosingCircle(mesh_points[RIGHT_IRIS])\n",
        "            center_left = np.array([cx, cy], dtype=np.int32)\n",
        "            #print(center_left)\n",
        "            #center_right = np.array([r_cx, r_cy], dtype=np.int32)\n",
        "            cv.circle(frame, tuple(center_left), int(radius), (255,0,255), 1)\n",
        "            #cv.circle(frame, tuple(center_right), int(r_radius), (255,0,255), 1)\n",
        "            mask = np.zeros((img_h, img_w), dtype=np.uint8)\n",
        "            cv.circle(mask, tuple(center_left), int(radius), (255,255,255), -1, cv.LINE_AA)\n",
        "            cv.circle(frame, tuple(center_left), 1, (255,0,255), 1)\n",
        "        s = np.sum(mask)\n",
        "        if s==0 and res==False:\n",
        "          counter+=1\n",
        "          res=True\n",
        "        elif s!=0 and res==True:\n",
        "          res=False\n",
        "        else:\n",
        "          continue\n",
        "        #result.write(frame)   \n",
        "        cv2.imshow(frame)\n",
        "        key = cv.waitKey(10)\n",
        "        if key ==ord('q'):\n",
        "          break\n",
        "#print(counter)\n",
        "cap.release()\n",
        "cv.destroyAllWindows()"
      ]
    },
    {
      "cell_type": "code",
      "execution_count": 3,
      "metadata": {
        "id": "hqvn9GefYJF7"
      },
      "outputs": [],
      "source": [
        "import autopy,mouse\n",
        "autopy.mouse.smooth_move()"
      ]
    },
    {
      "cell_type": "code",
      "execution_count": null,
      "metadata": {
        "id": "VtJeIUogYJgL"
      },
      "outputs": [],
      "source": [
        "#here you go nibbba\n",
        "#pip install autopy. please install this module in your pc\n",
        "import cv2 as cv \n",
        "import numpy as np\n",
        "import mediapipe as mp \n",
        "import autopy as ay\n",
        "\n",
        "mp_face_mesh = mp.solutions.face_mesh\n",
        "LEFT_EYE = [ 362, 382, 381, 380, 374, 373, 390, 249, 263, 466, 388, 387, 386, 385,384, 398 ]\n",
        "#RIGHT_EYE=[ 33, 7, 163, 144, 145, 153, 154, 155, 133, 173, 157, 158, 159, 160, 161 , 246 ] \n",
        "LEFT_IRIS = [474,475, 476, 477]\n",
        "#RIGHT_IRIS = [469, 470, 471, 472]\n",
        "res = False\n",
        "counter = 0\n",
        "#To read a video\n",
        "cap = cv.VideoCapture(\"./video.mp4\")\n",
        "# for Webcam\n",
        "cap = cv.VideoCapture(0)\n",
        "face_mesh = mp_face_mesh.FaceMesh(\n",
        "    max_num_faces=1,\n",
        "    refine_landmarks=True,\n",
        "    min_detection_confidence=0.5,\n",
        "    min_tracking_confidence=0.5\n",
        ") \n",
        "while True:\n",
        "  ret, frame = cap.read()\n",
        "  rgb_frame = cv.cvtColor(frame, cv.COLOR_BGR2RGB)\n",
        "  rgb_frame = cv.flip(rgb_frame,1)\n",
        "  img_h, img_w = frame.shape[:2]\n",
        "  results = face_mesh.process(rgb_frame)\n",
        "  if results.multi_face_landmarks:\n",
        "    mesh_points = np.array([np.multiply([p.x, p.y], [img_w, img_h]).astype(int) for p in results.multi_face_landmarks[0].landmark])\n",
        "    (cx, cy), radius = cv.minEnclosingCircle(mesh_points[LEFT_IRIS])\n",
        "    center_left = np.array([cx, cy], dtype = np.int32)\n",
        "    cv.circle(frame, tuple(center_left), int(radius), (255,0,255), 1)    \n",
        "    mask = np.zeros((img_h, img_w), dtype = np.uint8)\n",
        "    cv.circle(mask, tuple(center_left), int(radius), (255,255,255), -1, cv.LINE_AA)\n",
        "    cv.circle(frame, tuple(center_left), 1, (255,0,255), 1)\n",
        "    ay.mouse.smooth_move(center_left[0],center_left[1]) \n",
        "  cv.imshow(\"AI PROJECT\", frame)\n",
        "  cv.waitKey(20)\n",
        "\n",
        "cap.release()\n",
        "cv.destroyAllWindows()\n",
        "\n"
      ]
    }
  ],
  "metadata": {
    "accelerator": "GPU",
    "colab": {
      "collapsed_sections": [],
      "name": "Typing With Sight.ipynb",
      "provenance": [],
      "include_colab_link": true
    },
    "kernelspec": {
      "display_name": "Python 3",
      "name": "python3"
    },
    "language_info": {
      "name": "python"
    }
  },
  "nbformat": 4,
  "nbformat_minor": 0
}